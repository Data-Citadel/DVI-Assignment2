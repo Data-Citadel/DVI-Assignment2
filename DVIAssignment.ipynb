{
 "cells": [
  {
   "cell_type": "markdown",
   "metadata": {},
   "source": [
    "### DVI_GROUP006\n",
    "### Fill in your BITS Registration ID, # Fill in your full name\n",
    "Ponvani : 2018AC04559 \n",
    "<br>Poornima J : 2018AC04550\n",
    "<br>Venkataramanan Krishnan : 2018AC04529\n",
    "<br>Bala Kavin Pon : 2018AC04531"
   ]
  },
  {
   "cell_type": "markdown",
   "metadata": {},
   "source": [
    "## Data Visualization Assignment"
   ]
  },
  {
   "cell_type": "markdown",
   "metadata": {},
   "source": [
    "### Question 01 [3 marks]"
   ]
  },
  {
   "cell_type": "markdown",
   "metadata": {},
   "source": [
    "#### A sample from the salaries data is provided in the file \"ex01.txt\". Plot and appropriate graph to help you derive an inference. You will have to explicitly state your inference what you have found."
   ]
  },
  {
   "cell_type": "code",
   "execution_count": 3,
   "metadata": {},
   "outputs": [],
   "source": [
    "import pandas as pd\n",
    "import numpy as np\n",
    "import seaborn as sns\n",
    "import matplotlib.pyplot as plt"
   ]
  },
  {
   "cell_type": "code",
   "execution_count": 14,
   "metadata": {},
   "outputs": [
    {
     "data": {
      "text/html": [
       "<div>\n",
       "<style scoped>\n",
       "    .dataframe tbody tr th:only-of-type {\n",
       "        vertical-align: middle;\n",
       "    }\n",
       "\n",
       "    .dataframe tbody tr th {\n",
       "        vertical-align: top;\n",
       "    }\n",
       "\n",
       "    .dataframe thead th {\n",
       "        text-align: right;\n",
       "    }\n",
       "</style>\n",
       "<table border=\"1\" class=\"dataframe\">\n",
       "  <thead>\n",
       "    <tr style=\"text-align: right;\">\n",
       "      <th></th>\n",
       "      <th>Salary</th>\n",
       "      <th>Experience</th>\n",
       "    </tr>\n",
       "  </thead>\n",
       "  <tbody>\n",
       "    <tr>\n",
       "      <td>0</td>\n",
       "      <td>840000</td>\n",
       "      <td>8.7</td>\n",
       "    </tr>\n",
       "    <tr>\n",
       "      <td>1</td>\n",
       "      <td>380000</td>\n",
       "      <td>0.7</td>\n",
       "    </tr>\n",
       "    <tr>\n",
       "      <td>2</td>\n",
       "      <td>490000</td>\n",
       "      <td>1.7</td>\n",
       "    </tr>\n",
       "    <tr>\n",
       "      <td>3</td>\n",
       "      <td>880000</td>\n",
       "      <td>8.1</td>\n",
       "    </tr>\n",
       "    <tr>\n",
       "      <td>4</td>\n",
       "      <td>760000</td>\n",
       "      <td>6.0</td>\n",
       "    </tr>\n",
       "  </tbody>\n",
       "</table>\n",
       "</div>"
      ],
      "text/plain": [
       "   Salary  Experience\n",
       "0  840000         8.7\n",
       "1  380000         0.7\n",
       "2  490000         1.7\n",
       "3  880000         8.1\n",
       "4  760000         6.0"
      ]
     },
     "execution_count": 14,
     "metadata": {},
     "output_type": "execute_result"
    }
   ],
   "source": [
    "df = pd.read_csv(\"ex01.txt\", header=None);\n",
    "df.columns = [\"Salary\",\"Experience\"]\n",
    "df.head()"
   ]
  },
  {
   "cell_type": "code",
   "execution_count": 8,
   "metadata": {
    "scrolled": true
   },
   "outputs": [
    {
     "data": {
      "image/png": "[encoded data removed]",
      "text/plain": [
       "<Figure size 432x288 with 1 Axes>"
      ]
     },
     "metadata": {
      "needs_background": "light"
     },
     "output_type": "display_data"
    }
   ],
   "source": [
    "plt.scatter(df.Salary, df.Experience)\n",
    "\n",
    "plt.xlabel(\"Salary Range\")\n",
    "plt.ylabel(\"Years of Experience\")\n",
    "plt.title(\"Scatter plot\")\n",
    "plt.show()"
   ]
  },
  {
   "cell_type": "markdown",
   "metadata": {},
   "source": [
    "### Inference: \n",
    "As the years of experience increases , we can see raise in the Salary range. Both are positively correlated."
   ]
  },
  {
   "cell_type": "markdown",
   "metadata": {},
   "source": [
    "### Question 2 [3 marks]"
   ]
  },
  {
   "cell_type": "markdown",
   "metadata": {},
   "source": [
    "#### Analyze the GDP of the country from the data in the file \"ex02.txt\". Use the appropriate plot to help you derive an inference. You will have to explicitly state your inference what you have found."
   ]
  },
  {
   "cell_type": "code",
   "execution_count": 10,
   "metadata": {},
   "outputs": [
    {
     "data": {
      "text/html": [
       "<div>\n",
       "<style scoped>\n",
       "    .dataframe tbody tr th:only-of-type {\n",
       "        vertical-align: middle;\n",
       "    }\n",
       "\n",
       "    .dataframe tbody tr th {\n",
       "        vertical-align: top;\n",
       "    }\n",
       "\n",
       "    .dataframe thead th {\n",
       "        text-align: right;\n",
       "    }\n",
       "</style>\n",
       "<table border=\"1\" class=\"dataframe\">\n",
       "  <thead>\n",
       "    <tr style=\"text-align: right;\">\n",
       "      <th></th>\n",
       "      <th>Year</th>\n",
       "      <th>GDP</th>\n",
       "    </tr>\n",
       "  </thead>\n",
       "  <tbody>\n",
       "    <tr>\n",
       "      <td>0</td>\n",
       "      <td>2011</td>\n",
       "      <td>8929.5</td>\n",
       "    </tr>\n",
       "    <tr>\n",
       "      <td>1</td>\n",
       "      <td>2012</td>\n",
       "      <td>8289.1</td>\n",
       "    </tr>\n",
       "    <tr>\n",
       "      <td>2</td>\n",
       "      <td>2013</td>\n",
       "      <td>10009.9</td>\n",
       "    </tr>\n",
       "    <tr>\n",
       "      <td>3</td>\n",
       "      <td>2014</td>\n",
       "      <td>11453.6</td>\n",
       "    </tr>\n",
       "    <tr>\n",
       "      <td>4</td>\n",
       "      <td>2015</td>\n",
       "      <td>13108.3</td>\n",
       "    </tr>\n",
       "  </tbody>\n",
       "</table>\n",
       "</div>"
      ],
      "text/plain": [
       "   Year      GDP\n",
       "0  2011   8929.5\n",
       "1  2012   8289.1\n",
       "2  2013  10009.9\n",
       "3  2014  11453.6\n",
       "4  2015  13108.3"
      ]
     },
     "execution_count": 10,
     "metadata": {},
     "output_type": "execute_result"
    }
   ],
   "source": [
    "df = pd.read_csv(\"ex02.txt\", header=None);\n",
    "df.columns = [\"Year\",\"GDP\"]\n",
    "df.head()"
   ]
  },
  {
   "cell_type": "code",
   "execution_count": 13,
   "metadata": {},
   "outputs": [
    {
     "data": {
      "image/png": "[encoded data removed]",
      "text/plain": [
       "<Figure size 432x288 with 1 Axes>"
      ]
     },
     "metadata": {
      "needs_background": "light"
     },
     "output_type": "display_data"
    }
   ],
   "source": [
    "plt.bar(df.Year, df.GDP, label=\"Blue Bar\", color='b')\n",
    "plt.plot()\n",
    "plt.xlabel(\"Year\")\n",
    "plt.ylabel(\"GDP growth\")\n",
    "plt.title(\"Bar Chart \")\n",
    "plt.legend()\n",
    "plt.show()"
   ]
  },
  {
   "cell_type": "markdown",
   "metadata": {},
   "source": [
    "### Inference: \n",
    "Can see the growth of GDB after 2015 is maintaing greater than 12000. "
   ]
  },
  {
   "cell_type": "markdown",
   "metadata": {},
   "source": [
    "### Question 3 [3 marks]"
   ]
  },
  {
   "cell_type": "markdown",
   "metadata": {},
   "source": [
    "#### The data of Oxygen and Carbon Levels of 2 cities over a period of time are given in the file \"ex03.txt\". Use the appropriate plot to help you derive an inference. You will have to explicitly state your inference what you have found."
   ]
  },
  {
   "cell_type": "code",
   "execution_count": 18,
   "metadata": {},
   "outputs": [
    {
     "data": {
      "text/html": [
       "<div>\n",
       "<style scoped>\n",
       "    .dataframe tbody tr th:only-of-type {\n",
       "        vertical-align: middle;\n",
       "    }\n",
       "\n",
       "    .dataframe tbody tr th {\n",
       "        vertical-align: top;\n",
       "    }\n",
       "\n",
       "    .dataframe thead th {\n",
       "        text-align: right;\n",
       "    }\n",
       "</style>\n",
       "<table border=\"1\" class=\"dataframe\">\n",
       "  <thead>\n",
       "    <tr style=\"text-align: right;\">\n",
       "      <th></th>\n",
       "      <th>City</th>\n",
       "      <th>Year</th>\n",
       "      <th>O2</th>\n",
       "      <th>CO2</th>\n",
       "    </tr>\n",
       "  </thead>\n",
       "  <tbody>\n",
       "    <tr>\n",
       "      <td>0</td>\n",
       "      <td>delhi</td>\n",
       "      <td>2011</td>\n",
       "      <td>24.2</td>\n",
       "      <td>0.04</td>\n",
       "    </tr>\n",
       "    <tr>\n",
       "      <td>1</td>\n",
       "      <td>Bangalore</td>\n",
       "      <td>2011</td>\n",
       "      <td>25.2</td>\n",
       "      <td>0.03</td>\n",
       "    </tr>\n",
       "    <tr>\n",
       "      <td>2</td>\n",
       "      <td>delhi</td>\n",
       "      <td>2013</td>\n",
       "      <td>25.3</td>\n",
       "      <td>0.05</td>\n",
       "    </tr>\n",
       "    <tr>\n",
       "      <td>3</td>\n",
       "      <td>Bangalore</td>\n",
       "      <td>2013</td>\n",
       "      <td>24.4</td>\n",
       "      <td>0.04</td>\n",
       "    </tr>\n",
       "    <tr>\n",
       "      <td>4</td>\n",
       "      <td>delhi</td>\n",
       "      <td>2015</td>\n",
       "      <td>26.1</td>\n",
       "      <td>0.06</td>\n",
       "    </tr>\n",
       "  </tbody>\n",
       "</table>\n",
       "</div>"
      ],
      "text/plain": [
       "        City  Year    O2   CO2\n",
       "0      delhi  2011  24.2  0.04\n",
       "1  Bangalore  2011  25.2  0.03\n",
       "2      delhi  2013  25.3  0.05\n",
       "3  Bangalore  2013  24.4  0.04\n",
       "4      delhi  2015  26.1  0.06"
      ]
     },
     "execution_count": 18,
     "metadata": {},
     "output_type": "execute_result"
    }
   ],
   "source": [
    "df = pd.read_csv(\"ex03.txt\", header=0);\n",
    "df.head()"
   ]
  },
  {
   "cell_type": "markdown",
   "metadata": {},
   "source": [
    "### Question 4 [3 marks]"
   ]
  },
  {
   "cell_type": "markdown",
   "metadata": {},
   "source": [
    "#### The data of number of enrollments to various streams are shown for 2 successive years in the file \"ex04.txt\". Use the appropriate plot to help you derive an inference. You will have to explicitly state your inference what you have found and state the reason of the significance of the particular plot used."
   ]
  },
  {
   "cell_type": "code",
   "execution_count": 12,
   "metadata": {},
   "outputs": [
    {
     "data": {
      "text/html": [
       "<div>\n",
       "<style scoped>\n",
       "    .dataframe tbody tr th:only-of-type {\n",
       "        vertical-align: middle;\n",
       "    }\n",
       "\n",
       "    .dataframe tbody tr th {\n",
       "        vertical-align: top;\n",
       "    }\n",
       "\n",
       "    .dataframe thead th {\n",
       "        text-align: right;\n",
       "    }\n",
       "</style>\n",
       "<table border=\"1\" class=\"dataframe\">\n",
       "  <thead>\n",
       "    <tr style=\"text-align: right;\">\n",
       "      <th></th>\n",
       "      <th>Stream</th>\n",
       "      <th>Yr_2018</th>\n",
       "      <th>Yr_2019</th>\n",
       "    </tr>\n",
       "  </thead>\n",
       "  <tbody>\n",
       "    <tr>\n",
       "      <td>0</td>\n",
       "      <td>Basic Sciences</td>\n",
       "      <td>23764</td>\n",
       "      <td>17213</td>\n",
       "    </tr>\n",
       "    <tr>\n",
       "      <td>1</td>\n",
       "      <td>Engineering</td>\n",
       "      <td>66734</td>\n",
       "      <td>64398</td>\n",
       "    </tr>\n",
       "    <tr>\n",
       "      <td>2</td>\n",
       "      <td>Arts</td>\n",
       "      <td>18033</td>\n",
       "      <td>12383</td>\n",
       "    </tr>\n",
       "    <tr>\n",
       "      <td>3</td>\n",
       "      <td>Commerce</td>\n",
       "      <td>50876</td>\n",
       "      <td>63872</td>\n",
       "    </tr>\n",
       "  </tbody>\n",
       "</table>\n",
       "</div>"
      ],
      "text/plain": [
       "           Stream  Yr_2018  Yr_2019\n",
       "0  Basic Sciences    23764    17213\n",
       "1     Engineering    66734    64398\n",
       "2            Arts    18033    12383\n",
       "3        Commerce    50876    63872"
      ]
     },
     "execution_count": 12,
     "metadata": {},
     "output_type": "execute_result"
    }
   ],
   "source": [
    "df = pd.read_csv(\"ex04.txt\", header =0)\n",
    "df.columns=['Stream','Yr_2018','Yr_2019']\n",
    "df\n"
   ]
  },
  {
   "cell_type": "code",
   "execution_count": 14,
   "metadata": {},
   "outputs": [
    {
     "data": {
      "image/png": "[encoded data removed]",
      "text/plain": [
       "<Figure size 432x288 with 1 Axes>"
      ]
     },
     "metadata": {
      "needs_background": "light"
     },
     "output_type": "display_data"
    }
   ],
   "source": [
    "plt.plot(df.Stream, df.Yr_2018, color='g',label=2018)\n",
    "plt.plot(df.Stream, df.Yr_2019, color='orange',label=2019)\n",
    "plt.xlabel('Various Stream')\n",
    "plt.ylabel('Comparison of years')\n",
    "plt.title('2018 vs 2019')\n",
    "plt.legend()\n",
    "plt.show()"
   ]
  },
  {
   "cell_type": "markdown",
   "metadata": {},
   "source": [
    "### Question 5 [3 marks]"
   ]
  },
  {
   "cell_type": "markdown",
   "metadata": {},
   "source": [
    "### Inference:\n",
    "In 2019 more students shown interest and  enrolled to Commerce than 2018. "
   ]
  },
  {
   "cell_type": "markdown",
   "metadata": {},
   "source": [
    "#### The number of tweets done for hashtag #dvicourse is provided in the file \"ex05.txt\" file. Use the appropriate  plot to display them in form of 4 quartiles 0-25, 26-50, 51-75, 75-100and derive an inference. State explicitly the inference you have derived."
   ]
  },
  {
   "cell_type": "code",
   "execution_count": 123,
   "metadata": {},
   "outputs": [
    {
     "data": {
      "text/html": [
       "<div>\n",
       "<style scoped>\n",
       "    .dataframe tbody tr th:only-of-type {\n",
       "        vertical-align: middle;\n",
       "    }\n",
       "\n",
       "    .dataframe tbody tr th {\n",
       "        vertical-align: top;\n",
       "    }\n",
       "\n",
       "    .dataframe thead th {\n",
       "        text-align: right;\n",
       "    }\n",
       "</style>\n",
       "<table border=\"1\" class=\"dataframe\">\n",
       "  <thead>\n",
       "    <tr style=\"text-align: right;\">\n",
       "      <th></th>\n",
       "      <th>Tweets</th>\n",
       "    </tr>\n",
       "  </thead>\n",
       "  <tbody>\n",
       "    <tr>\n",
       "      <td>0</td>\n",
       "      <td>95</td>\n",
       "    </tr>\n",
       "    <tr>\n",
       "      <td>1</td>\n",
       "      <td>85</td>\n",
       "    </tr>\n",
       "    <tr>\n",
       "      <td>2</td>\n",
       "      <td>22</td>\n",
       "    </tr>\n",
       "    <tr>\n",
       "      <td>3</td>\n",
       "      <td>55</td>\n",
       "    </tr>\n",
       "    <tr>\n",
       "      <td>4</td>\n",
       "      <td>62</td>\n",
       "    </tr>\n",
       "  </tbody>\n",
       "</table>\n",
       "</div>"
      ],
      "text/plain": [
       "   Tweets\n",
       "0      95\n",
       "1      85\n",
       "2      22\n",
       "3      55\n",
       "4      62"
      ]
     },
     "execution_count": 123,
     "metadata": {},
     "output_type": "execute_result"
    }
   ],
   "source": [
    "df = pd.read_csv(\"ex05.txt\", header=None);\n",
    "df.columns = [\"Tweets\"]\n",
    "df.head()"
   ]
  },
  {
   "cell_type": "code",
   "execution_count": 132,
   "metadata": {},
   "outputs": [
    {
     "name": "stdout",
     "output_type": "stream",
     "text": [
      "<class 'pandas.core.frame.DataFrame'>\n",
      "RangeIndex: 31 entries, 0 to 30\n",
      "Data columns (total 1 columns):\n",
      "Tweets    31 non-null int64\n",
      "dtypes: int64(1)\n",
      "memory usage: 376.0 bytes\n"
     ]
    }
   ],
   "source": [
    "df.info()"
   ]
  },
  {
   "cell_type": "code",
   "execution_count": 93,
   "metadata": {},
   "outputs": [
    {
     "data": {
      "text/plain": [
       "count    31.000000\n",
       "mean     52.548387\n",
       "std      26.408128\n",
       "min      10.000000\n",
       "25%      25.500000\n",
       "50%      55.000000\n",
       "75%      72.500000\n",
       "max      95.000000\n",
       "Name: Tweets, dtype: float64"
      ]
     },
     "execution_count": 93,
     "metadata": {},
     "output_type": "execute_result"
    }
   ],
   "source": [
    "df.Tweets.describe()"
   ]
  },
  {
   "cell_type": "code",
   "execution_count": 119,
   "metadata": {},
   "outputs": [
    {
     "name": "stdout",
     "output_type": "stream",
     "text": [
      "q1= 10\n",
      "q3= 95\n"
     ]
    }
   ],
   "source": [
    "  # get high extreme\n",
    "q1=25\n",
    "q2=50\n",
    "q3=75\n",
    "whis=1.5\n",
    "iq = q3 - q1\n",
    "hi_val = q3 + whis * iq\n",
    "wisk_hi = np.compress(df.Tweets <= hi_val, df.Tweets)\n",
    "if len(wisk_hi) == 0 or np.max(wisk_hi) < q3:\n",
    "    wisk_hi = q3\n",
    "else:\n",
    "    wisk_hi = max(wisk_hi)\n",
    "# get low extreme\n",
    "lo_val = q1 - whis * iq\n",
    "wisk_lo = np.compress(df.Tweets >= lo_val, df.Tweets)\n",
    "if len(wisk_lo) == 0 or np.min(wisk_lo) > q1:\n",
    "    wisk_lo = q1\n",
    "else:\n",
    "    wisk_lo = min(wisk_lo)\n",
    "\n",
    "print('q1=',wisk_lo)    \n",
    "print ('q3=',wisk_hi)\n",
    "\n"
   ]
  },
  {
   "cell_type": "code",
   "execution_count": 110,
   "metadata": {},
   "outputs": [
    {
     "data": {
      "text/plain": [
       "{'whiskers': [<matplotlib.lines.Line2D at 0x2a6ddb93a48>,\n",
       "  <matplotlib.lines.Line2D at 0x2a6ddb93fc8>],\n",
       " 'caps': [<matplotlib.lines.Line2D at 0x2a6ddb93c08>,\n",
       "  <matplotlib.lines.Line2D at 0x2a6ddb98ac8>],\n",
       " 'boxes': [<matplotlib.lines.Line2D at 0x2a6ddb932c8>],\n",
       " 'medians': [<matplotlib.lines.Line2D at 0x2a6ddb98f08>],\n",
       " 'fliers': [<matplotlib.lines.Line2D at 0x2a6ddb98c88>],\n",
       " 'means': []}"
      ]
     },
     "execution_count": 110,
     "metadata": {},
     "output_type": "execute_result"
    },
    {
     "data": {
      "image/png": "[encoded data removed]",
      "text/plain": [
       "<Figure size 432x288 with 1 Axes>"
      ]
     },
     "metadata": {},
     "output_type": "display_data"
    }
   ],
   "source": [
    "plt.boxplot(df.Tweets, notch=False, sym='+', vert=True, whis=1.5,\n",
    "        positions=None, widths=None, patch_artist=False,\n",
    "        bootstrap=None, usermedians=None, conf_intervals=None)"
   ]
  },
  {
   "cell_type": "code",
   "execution_count": 141,
   "metadata": {},
   "outputs": [
    {
     "name": "stdout",
     "output_type": "stream",
     "text": [
      "    Tweets  quartiles\n",
      "0       95        4.0\n",
      "1       85        4.0\n",
      "2       22        1.0\n",
      "3       55        3.0\n",
      "4       62        3.0\n",
      "5       45        2.0\n",
      "6       21        1.0\n",
      "7       22        1.0\n",
      "8       34        2.0\n",
      "9       42        2.0\n",
      "10      47        2.0\n",
      "11      29        2.0\n",
      "12      92        4.0\n",
      "13      93        4.0\n",
      "14      68        3.0\n",
      "15      67        3.0\n",
      "16      66        3.0\n",
      "17      64        3.0\n",
      "18      54        3.0\n",
      "19      56        3.0\n",
      "20      55        3.0\n",
      "21      10        1.0\n",
      "22      71        3.0\n",
      "23      74        3.0\n",
      "24      79        4.0\n",
      "25      81        4.0\n",
      "26      19        1.0\n",
      "27      18        1.0\n",
      "28      13        1.0\n",
      "29      14        1.0\n",
      "30      76        4.0\n"
     ]
    }
   ],
   "source": [
    "quartiles=[]\n",
    "df.loc[(df['Tweets'] >= 76) & (df['Tweets'] <= 100), 'quartiles'] = 4\n",
    "df.loc[(df['Tweets'] >= 51) & (df['Tweets'] <= 75), 'quartiles'] = 3\n",
    "df.loc[(df['Tweets'] >= 26) & (df['Tweets'] <= 50), 'quartiles'] = 2\n",
    "df.loc[(df['Tweets'] >= 0) & (df['Tweets'] <= 25), 'quartiles'] = 1\n",
    "   \n",
    "\n",
    "df[quartiles]=quartiles\n",
    "print(df)"
   ]
  },
  {
   "cell_type": "code",
   "execution_count": 143,
   "metadata": {},
   "outputs": [
    {
     "data": {
      "image/png": "[encoded data removed]",
      "text/plain": [
       "<Figure size 432x288 with 1 Axes>"
      ]
     },
     "metadata": {},
     "output_type": "display_data"
    }
   ],
   "source": [
    "import seaborn as sns\n",
    "sns.set(style=\"whitegrid\")\n",
    "#tips = sns.load_dataset(\"df\")\n",
    "ax = sns.boxplot(x=\"quartiles\", y=\"Tweets\", data=df)"
   ]
  },
  {
   "cell_type": "code",
   "execution_count": null,
   "metadata": {},
   "outputs": [],
   "source": []
  }
 ],
 "metadata": {
  "kernelspec": {
   "display_name": "Python 3",
   "language": "python",
   "name": "python3"
  },
  "language_info": {
   "codemirror_mode": {
    "name": "ipython",
    "version": 3
   },
   "file_extension": ".py",
   "mimetype": "text/x-python",
   "name": "python",
   "nbconvert_exporter": "python",
   "pygments_lexer": "ipython3",
   "version": "3.7.4"
  }
 },
 "nbformat": 4,
 "nbformat_minor": 2
}
